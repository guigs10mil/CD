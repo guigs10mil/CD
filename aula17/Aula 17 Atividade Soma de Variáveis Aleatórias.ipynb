{
 "cells": [
  {
   "cell_type": "markdown",
   "metadata": {},
   "source": [
    "___\n",
    "# Atividade: Soma de variáveis aleatórias \n",
    "___\n",
    "\n",
    "## Aula 17\n",
    "\n",
    "**Preparo Prévio:**\n",
    "1. Seção 5.1 – págs 137 a 140: aborda como fazer uma distribuição de probabilidade conjunta entre duas variáveis aleatórias X e Y e define função de probabilidade conjunta.\n",
    "2. Seção 5.2 – págs 146 a 149; págs 156 e 157 (Exemplo 5.12) e págs 158 a 162 (Exemplo 5.13): aborda propriedades de esperança e variância em soma de variáveis aleatórias (X+Y). \n",
    "\n",
    "**Hoje:**\n",
    "1. Descrever as propriedades de distribuição conjunta entre duas variáveis aleatórias discretas.\n",
    "2. Compreender correlação entre variáveis aleatórias.\n",
    "3. Descrever as propriedades de esperança e variância para soma de variáveis aleatórias (discretas e contínuas).\n",
    "\n",
    "\n",
    "**Próxima aula:**\n",
    "1.\tLeitura prévia necessária: Magalhães e Lima (7ª. Edição): Seção 7.3 (págs 234 a 240).\n",
    "___"
   ]
  },
  {
   "cell_type": "code",
   "execution_count": 69,
   "metadata": {
    "collapsed": false
   },
   "outputs": [],
   "source": [
    "%matplotlib inline\n",
    "\n",
    "import os\n",
    "import matplotlib.pyplot as plt\n",
    "import pandas as pd\n",
    "import numpy as np\n",
    "from scipy import stats\n"
   ]
  },
  {
   "cell_type": "markdown",
   "metadata": {},
   "source": [
    "___\n",
    "## <font color='blue'>Exercício 1 - Exemplo 3 da Aula 17 </font>\n",
    "\n",
    "Num determinado momento em um certo país, a taxa de juros ($X$) pode variar 0,25 pontos percentuais (pp), para cima ou para baixo, ou manter-se constante. \n",
    "Já a taxa de câmbio ($Y$) pode variar para mais ou para menos em 1 pp, ou manter-se constante.\n",
    "A tabela seguinte reflete as distribuições marginais e conjunta dessas duas taxas representadas, aqui, por $X$ e $Y$. \n",
    "\n",
    "![Tabela](XeY.png)\n",
    "\n",
    "Um investidor aplica a mesma quantia num fundo que acompanha a variação da taxa de juros ($X$) e num fundo que acompanha a variação cambial ($Y$). Ao final do dia ele resgatará seu investimento.\n",
    "1. Encontre a $E(X)$, $Var(X)$, $E(Y)$, $Var(Y)$, $Cov(X,Y)$ e $Corr(X,Y)$.\n",
    "2. Construa a distribuição de probabilidades do ganho (em variação %) desse investidor, ou seja, encontre todos os valores de $G=0.5*X+0.5*Y$, sendo $G$ o ganho do investidor aplicando metade do dinheiro em $X$ e metade do dinheiro em $Y$. \n",
    "3. Calcule esperança e variância de $G$ utilizando a distribuição de probabilidade, ou seja, $E(G)$ e $Var(G)$.\n",
    "4. Calcule esperança e variância de $G$ utilizando propriedades de esperança e variância da soma de variáveis aleatórias.\n"
   ]
  },
  {
   "cell_type": "code",
   "execution_count": 70,
   "metadata": {
    "collapsed": false
   },
   "outputs": [
    {
     "name": "stdout",
     "output_type": "stream",
     "text": [
      "[[0.05, 0.07, 0.26], [0.075, 0.21, 0.12], [0.125, 0.07, 0.02]]\n"
     ]
    }
   ],
   "source": [
    "#Valores da tabela\n",
    "y=[-1,0,1] #colunas\n",
    "x=[-0.25,0,0.25] #linhas\n",
    "probXY=[[[] for i in range(3)] for i in range(3)]\n",
    "pxy=[0.05,0.07,0.26,0.075,0.21,0.12,0.125,0.07,0.02]\n",
    "k=0\n",
    "for i in range(3):\n",
    "    for j in range(3):\n",
    "        probXY[i][j]=pxy[k]\n",
    "        k+=1\n",
    "print(probXY)"
   ]
  },
  {
   "cell_type": "code",
   "execution_count": 71,
   "metadata": {
    "collapsed": false
   },
   "outputs": [
    {
     "name": "stdout",
     "output_type": "stream",
     "text": [
      "Probabilidade de X= -0.25  é igual a  0.38\n",
      "Probabilidade de X= 0  é igual a  0.40499999999999997\n",
      "Probabilidade de X= 0.25  é igual a  0.215\n",
      "Esperança de X= -0.04125\n",
      "Variância de X= 0.0354859375\n"
     ]
    }
   ],
   "source": [
    "#item 1 \n",
    "#Distribuição de X\n",
    "probX=[0,0,0]\n",
    "for i in range(3):\n",
    "    for j in range(3):\n",
    "        probX[i]+=probXY[i][j]\n",
    "for i in range(3):\n",
    "    print(\"Probabilidade de X=\",x[i],\" é igual a \", probX[i])\n",
    "\n",
    "espX=0\n",
    "varX=0\n",
    "for i in range(3):\n",
    "    espX+=x[i]*probX[i]\n",
    "for i in range(3):\n",
    "    varX+=(x[i]-espX)**2*probX[i]\n",
    "print(\"Esperança de X=\",espX)\n",
    "print(\"Variância de X=\",varX)\n"
   ]
  },
  {
   "cell_type": "code",
   "execution_count": 72,
   "metadata": {
    "collapsed": false
   },
   "outputs": [
    {
     "name": "stdout",
     "output_type": "stream",
     "text": [
      "Probabilidade de Y= -1  é igual a  0.25\n",
      "Probabilidade de Y= 0  é igual a  0.35000000000000003\n",
      "Probabilidade de Y= 1  é igual a  0.4\n",
      "Esperança de Y= 0.15000000000000002\n",
      "Variância de Y= 0.6275\n"
     ]
    }
   ],
   "source": [
    "#item 1 \n",
    "#Distribuição de Y\n",
    "probY=[0,0,0]\n",
    "for i in range(3):\n",
    "    for j in range(3):\n",
    "        probY[j]+=probXY[i][j]\n",
    "for i in range(3):\n",
    "    print(\"Probabilidade de Y=\",y[i],\" é igual a \", probY[i])\n",
    "\n",
    "espY=0\n",
    "varY=0\n",
    "for i in range(3):\n",
    "    espY+=y[i]*probY[i]\n",
    "for i in range(3):\n",
    "    varY+=(y[i]-espY)**2*probY[i]\n",
    "print(\"Esperança de Y=\",espY)\n",
    "print(\"Variância de Y=\",varY)\n"
   ]
  },
  {
   "cell_type": "code",
   "execution_count": 73,
   "metadata": {
    "collapsed": false
   },
   "outputs": [
    {
     "name": "stdout",
     "output_type": "stream",
     "text": [
      "Covariância entre X e Y= -0.07256249999999999\n",
      "Correlação entre X e Y= -0.4862697238590869\n"
     ]
    }
   ],
   "source": [
    "#item 1\n",
    "#Covariância e Correlação\n",
    "cov=0\n",
    "for i in range(3):\n",
    "    for j in range(3):\n",
    "        cov+=(x[i]-espX)*(y[j]-espY)*probXY[i][j]\n",
    "\n",
    "corr=cov/(varX*varY)**(0.5)\n",
    "print(\"Covariância entre X e Y=\", cov)\n",
    "print(\"Correlação entre X e Y=\", corr)\n"
   ]
  },
  {
   "cell_type": "code",
   "execution_count": 74,
   "metadata": {
    "collapsed": false
   },
   "outputs": [
    {
     "name": "stdout",
     "output_type": "stream",
     "text": [
      "Probabilidade de G= -0.625  é igual a  0.05\n",
      "Probabilidade de G= -0.125  é igual a  0.07\n",
      "Probabilidade de G= 0.375  é igual a  0.26\n",
      "Probabilidade de G= -0.5  é igual a  0.075\n",
      "Probabilidade de G= 0.0  é igual a  0.21\n",
      "Probabilidade de G= 0.5  é igual a  0.12\n",
      "Probabilidade de G= -0.375  é igual a  0.125\n",
      "Probabilidade de G= 0.125  é igual a  0.07\n",
      "Probabilidade de G= 0.625  é igual a  0.02\n"
     ]
    }
   ],
   "source": [
    "#item 2\n",
    "#Distribuição do G=0.5*X +0.5*Y\n",
    "g=[]\n",
    "probG=[]\n",
    "for i in range(3):\n",
    "    for j in range(3):\n",
    "        a = 0.5*x[i]+0.5*y[j]\n",
    "        if a in g:\n",
    "            probG[g.index(a)] += probX[i][j]\n",
    "        else:\n",
    "            g.append(a)         \n",
    "            probG.append(probXY[i][j])\n",
    "\n",
    "for i in range(len(g)):\n",
    "    print(\"Probabilidade de G=\",g[i],\" é igual a \", probG[i])\n"
   ]
  },
  {
   "cell_type": "code",
   "execution_count": 75,
   "metadata": {
    "collapsed": false
   },
   "outputs": [
    {
     "name": "stdout",
     "output_type": "stream",
     "text": [
      "Esperança e variância de G usando distribuição de probabilidade de G:\n",
      "Esperança de G= 0.05437500000000001\n",
      "Variância de G= 0.12946523437500002\n"
     ]
    }
   ],
   "source": [
    "#item 3\n",
    "#Esperança e variância de G\n",
    "espG=0\n",
    "varG=0\n",
    "for i in range(len(g)):\n",
    "    espG+=g[i]*probG[i]\n",
    "for i in range(len(g)):\n",
    "    varG+=(g[i]-espG)**2*probG[i]\n",
    "\n",
    "print(\"Esperança e variância de G usando distribuição de probabilidade de G:\")\n",
    "print(\"Esperança de G=\",espG)\n",
    "print(\"Variância de G=\",varG)"
   ]
  },
  {
   "cell_type": "code",
   "execution_count": 76,
   "metadata": {
    "collapsed": false
   },
   "outputs": [
    {
     "name": "stdout",
     "output_type": "stream",
     "text": [
      "Esperança e variância de G usando propriedades:\n",
      "Esperança de G= 0.05437500000000001\n",
      "Variância de G= 0.129465234375\n"
     ]
    }
   ],
   "source": [
    "#item 4\n",
    "#Esperança e variância de G usando propriedades de soma de variáveis aleatórias\n",
    "\n",
    "#G=0.5X + 0.5Y\n",
    "#G=0.5*(X+Y)\n",
    "\n",
    "espGp = 0.5*(espX+espY)\n",
    "varGp = 0.5**2*(varX+varY+2*cov)\n",
    "\n",
    "print(\"Esperança e variância de G usando propriedades:\")\n",
    "print(\"Esperança de G=\",espGp)\n",
    "print(\"Variância de G=\",varGp)\n"
   ]
  },
  {
   "cell_type": "markdown",
   "metadata": {
    "collapsed": true
   },
   "source": [
    "___\n",
    "## <font color='blue'>Exercício 2 - Soma de normais correlacionadas</font>\n",
    "\n",
    "Um pacote com mil peças de resistor de carbono 1/8w tem o preço distribuído como uma normal com média 21 reais e desvio padrão de 2 reais, ou seja, $X$~$N(21;4)$.\n",
    "\n",
    "Já jumpers/fios macho-fêmea com 40 unidades de 20 cm tem o preço distribuído como uma normal com média 18,90 reais e desvio padrão de 1,50 reais, ou seja, $Y$~$N(18,90;2,25)$.\n",
    "\n",
    "Assuma que a correlação entre esses dois preços seja de 0,85.\n",
    "\n",
    "1. Simule $n=100$, $n=1.000$ e $n=10.000$ de cada variáveis aleatória respeitando a correlação entre elas. Para tanto, consulte o comando `np.random.multivariate_normal(mean, cov, n)`. \n",
    "2. Se você vai passear na Santa Efigênia para comprar um pacote de cada um, calcule a esperança e a variância do gasto $G=X+Y$ com a compra de uma pacotinho de resistores e um jumper nas especificações acima descritos. \n",
    "3. Calcule esperança e variância de $G$ utilizando propriedades de esperança e variância da soma de variáveis aleatórias.\n",
    "4. Construa a distribuição do gasto e verifique se o gasto se assemelha a distribuição normal.\n",
    "5. Repita assumindo correlação igual a zero entre X e Y.\n"
   ]
  },
  {
   "cell_type": "code",
   "execution_count": 77,
   "metadata": {
    "collapsed": false
   },
   "outputs": [],
   "source": [
    "#Informações do enunciado\n",
    "muX = 21\n",
    "varX = 4\n",
    "muY = 18.90\n",
    "varY = 2.25\n",
    "corXY = 0.85\n",
    "covXY = corXY*(varX*varY)**(0.5)\n",
    "mean = [muX, muY]\n",
    "cov = [[varX, covXY], [covXY, varY]]  # diagonal covariance"
   ]
  },
  {
   "cell_type": "code",
   "execution_count": 78,
   "metadata": {
    "collapsed": false
   },
   "outputs": [
    {
     "name": "stdout",
     "output_type": "stream",
     "text": [
      "Matriz de covariâncias a partir dos n valores correlacionados:\n",
      "[[ 4.72043254  3.17938456]\n",
      " [ 3.17938456  2.66552066]]\n"
     ]
    }
   ],
   "source": [
    "#item 1\n",
    "n=100\n",
    "x, y = np.random.multivariate_normal(mean, cov, n).T\n",
    "\n",
    "print(\"Matriz de covariâncias a partir dos n valores correlacionados:\")\n",
    "print(np.cov(x,y))"
   ]
  },
  {
   "cell_type": "code",
   "execution_count": 79,
   "metadata": {
    "collapsed": false
   },
   "outputs": [
    {
     "name": "stdout",
     "output_type": "stream",
     "text": [
      "Matriz de covariâncias a partir dos n valores correlacionados:\n",
      "[[ 3.93025049  2.56317987]\n",
      " [ 2.56317987  2.31130302]]\n"
     ]
    }
   ],
   "source": [
    "n=1000\n",
    "x, y = np.random.multivariate_normal(mean, cov, n).T\n",
    "\n",
    "print(\"Matriz de covariâncias a partir dos n valores correlacionados:\")\n",
    "print(np.cov(x,y))"
   ]
  },
  {
   "cell_type": "code",
   "execution_count": 80,
   "metadata": {
    "collapsed": false
   },
   "outputs": [
    {
     "name": "stdout",
     "output_type": "stream",
     "text": [
      "Matriz de covariâncias a partir dos n valores correlacionados:\n",
      "[[ 4.04304597  2.57003171]\n",
      " [ 2.57003171  2.26026271]]\n"
     ]
    }
   ],
   "source": [
    "n=10000\n",
    "\n",
    "x, y = np.random.multivariate_normal(mean, cov, n).T\n",
    "\n",
    "print(\"Matriz de covariâncias a partir dos n valores correlacionados:\")\n",
    "print(np.cov(x,y))"
   ]
  },
  {
   "cell_type": "code",
   "execution_count": 91,
   "metadata": {
    "collapsed": false
   },
   "outputs": [
    {
     "name": "stdout",
     "output_type": "stream",
     "text": [
      "Esperança de G: 39.9278482502\n",
      "Variância de G: 11.4422277575\n"
     ]
    }
   ],
   "source": [
    "#item 2\n",
    "g = x + y\n",
    "esperG = 0\n",
    "\n",
    "muG = np.mean(g)\n",
    "var1G = np.var(g)\n",
    "print(\"Esperança de G: \" + str(muG))\n",
    "print(\"Variância de G: \" + str(var1G))"
   ]
  },
  {
   "cell_type": "code",
   "execution_count": 82,
   "metadata": {
    "collapsed": false
   },
   "outputs": [
    {
     "name": "stdout",
     "output_type": "stream",
     "text": [
      "Esperança de G: 39.9\n",
      "Variância de G: 11.35\n"
     ]
    }
   ],
   "source": [
    "#item 3\n",
    "espG = muX + muY\n",
    "varG = varX + varY + 2*covXY\n",
    "print(\"Esperança de G: \" + str(espG))\n",
    "print(\"Variância de G: \" + str(varG))"
   ]
  },
  {
   "cell_type": "code",
   "execution_count": 83,
   "metadata": {
    "collapsed": false
   },
   "outputs": [
    {
     "data": {
      "image/png": "[encoded data removed]",
      "text/plain": [
       "<matplotlib.figure.Figure at 0x2a478f48400>"
      ]
     },
     "metadata": {},
     "output_type": "display_data"
    }
   ],
   "source": [
    "#item 4\n",
    "t = np.linspace(25, 55, 10000)\n",
    "nor = stats.norm.pdf(t, espG, varG**0.5)\n",
    "\n",
    "plt.hist(g,normed=True)\n",
    "plt.plot(t, nor)\n",
    "plt.show()"
   ]
  },
  {
   "cell_type": "code",
   "execution_count": 84,
   "metadata": {
    "collapsed": false
   },
   "outputs": [
    {
     "name": "stdout",
     "output_type": "stream",
     "text": [
      "Matriz de covariâncias a partir dos n valores correlacionados:\n",
      "[[ 4.04304597  2.57003171]\n",
      " [ 2.57003171  2.26026271]]\n"
     ]
    }
   ],
   "source": [
    "#item 5\n",
    "n=10000\n",
    "x2, y2 = np.random.multivariate_normal(mean, [[varX,0],[0,varY]], n).T\n",
    "\n",
    "print(\"Matriz de covariâncias a partir dos n valores correlacionados:\")\n",
    "print(np.cov(x,y))"
   ]
  },
  {
   "cell_type": "code",
   "execution_count": 90,
   "metadata": {
    "collapsed": false
   },
   "outputs": [
    {
     "name": "stdout",
     "output_type": "stream",
     "text": [
      "Esperança de G: 39.9278482502\n",
      "Variância de G: 11.4422277575\n"
     ]
    }
   ],
   "source": [
    "g2 = x2 + y2\n",
    "esperG = 0\n",
    "\n",
    "mu2G = np.mean(g2)\n",
    "var2G = np.var(g2)\n",
    "print(\"Esperança de G: \" + str(muG))\n",
    "print(\"Variância de G: \" + str(var1G))"
   ]
  },
  {
   "cell_type": "code",
   "execution_count": 86,
   "metadata": {
    "collapsed": false
   },
   "outputs": [
    {
     "name": "stdout",
     "output_type": "stream",
     "text": [
      "Esperança de G: 39.9\n",
      "Variância de G: 11.35\n"
     ]
    }
   ],
   "source": [
    "esp2G = muX + muY\n",
    "var22G = varX + varY + 2*0\n",
    "print(\"Esperança de G: \" + str(espG))\n",
    "print(\"Variância de G: \" + str(varG))"
   ]
  },
  {
   "cell_type": "code",
   "execution_count": 87,
   "metadata": {
    "collapsed": false
   },
   "outputs": [
    {
     "data": {
      "image/png": "[encoded data removed]",
      "text/plain": [
       "<matplotlib.figure.Figure at 0x2a47a00cac8>"
      ]
     },
     "metadata": {},
     "output_type": "display_data"
    }
   ],
   "source": [
    "t = np.linspace(25, 55, 10000)\n",
    "nor2 = stats.norm.pdf(t, esp2G, var2G**0.5)\n",
    "\n",
    "plt.hist(g2,normed=True)\n",
    "plt.plot(t, nor2)\n",
    "plt.show()"
   ]
  },
  {
   "cell_type": "code",
   "execution_count": null,
   "metadata": {
    "collapsed": true
   },
   "outputs": [],
   "source": []
  }
 ],
 "metadata": {
  "anaconda-cloud": {},
  "kernelspec": {
   "display_name": "Python 3",
   "language": "python",
   "name": "python3"
  },
  "language_info": {
   "codemirror_mode": {
    "name": "ipython",
    "version": 3
   },
   "file_extension": ".py",
   "mimetype": "text/x-python",
   "name": "python",
   "nbconvert_exporter": "python",
   "pygments_lexer": "ipython3",
   "version": "3.5.2"
  }
 },
 "nbformat": 4,
 "nbformat_minor": 0
}
