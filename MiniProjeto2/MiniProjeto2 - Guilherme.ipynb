{
 "cells": [
  {
   "cell_type": "markdown",
   "metadata": {},
   "source": [
    "___\n",
    "# MINIPROJETO 2 - Teorema do Limite Central (TLC)"
   ]
  },
  {
   "cell_type": "markdown",
   "metadata": {},
   "source": [
    "## <font color='red'>Guilherme de Moraes Schoueri</font>\n",
    "___"
   ]
  },
  {
   "cell_type": "markdown",
   "metadata": {},
   "source": [
    "## <font color='blue'>ESTUDO DA DISTRIBUIÇÃO DA MÉDIA AMOSTRAL ( ̅𝐗) VIA SIMULAÇÃO </font>"
   ]
  },
  {
   "cell_type": "markdown",
   "metadata": {},
   "source": [
    "___\n",
    "### Item 1:"
   ]
  },
  {
   "cell_type": "code",
   "execution_count": 2,
   "metadata": {
    "collapsed": false
   },
   "outputs": [],
   "source": [
    "%matplotlib inline\n",
    "import pandas as pd\n",
    "import matplotlib.pyplot as plt\n",
    "import numpy as np\n",
    "import os\n",
    "from scipy import stats\n"
   ]
  },
  {
   "cell_type": "code",
   "execution_count": 7,
   "metadata": {
    "collapsed": false
   },
   "outputs": [
    {
     "data": {
      "image/png": "[encoded data removed]",
      "text/plain": [
       "<matplotlib.figure.Figure at 0x19a90e97400>"
      ]
     },
     "metadata": {},
     "output_type": "display_data"
    }
   ],
   "source": [
    "p = stats.gennorm.rvs(beta=5, loc=0, scale=10, size=1000000)\n",
    "\n",
    "plt.figure(figsize=(10,6))\n",
    "plt.hist(p, bins=20)\n",
    "plt.show()"
   ]
  },
  {
   "cell_type": "code",
   "execution_count": 8,
   "metadata": {
    "collapsed": false
   },
   "outputs": [
    {
     "name": "stdout",
     "output_type": "stream",
     "text": [
      "Media: 0.00119856689847\n",
      "Variância: 32.4078767793\n"
     ]
    }
   ],
   "source": [
    "print(\"Media: \" + str(sum(p)/len(p)))\n",
    "print(\"Variância: \" + str((sum(p**2)/len(p)) - (sum(p)/len(p))))"
   ]
  },
  {
   "cell_type": "code",
   "execution_count": null,
   "metadata": {
    "collapsed": true
   },
   "outputs": [],
   "source": []
  },
  {
   "cell_type": "markdown",
   "metadata": {
    "collapsed": true
   },
   "source": [
    "___\n",
    "### Item 2:"
   ]
  },
  {
   "cell_type": "code",
   "execution_count": 9,
   "metadata": {
    "collapsed": false
   },
   "outputs": [
    {
     "name": "stdout",
     "output_type": "stream",
     "text": [
      "Valores sorteados: [ 2.00457081  4.21687221]\n",
      "Média dos valores sorteados: 3.11072151166\n"
     ]
    }
   ],
   "source": [
    "n = 2\n",
    "\n",
    "choice2 = np.random.choice(p, n)\n",
    "\n",
    "med2 = sum(choice2)/len(choice2)\n",
    "\n",
    "print(\"Valores sorteados: \" + str(choice2))\n",
    "print(\"Média dos valores sorteados: \" + str(med2))"
   ]
  },
  {
   "cell_type": "code",
   "execution_count": 10,
   "metadata": {
    "collapsed": false
   },
   "outputs": [
    {
     "data": {
      "image/png": "[encoded data removed]",
      "text/plain": [
       "<matplotlib.figure.Figure at 0x19a90f6ada0>"
      ]
     },
     "metadata": {},
     "output_type": "display_data"
    }
   ],
   "source": [
    "n = 2\n",
    "medias = []\n",
    "\n",
    "for i in range(10000):\n",
    "    sorteado = np.random.choice(p, n)\n",
    "    medias.append(sum(sorteado)/len(sorteado))\n",
    "\n",
    "plt.figure(figsize=(8,5))\n",
    "plt.hist(medias, bins=20)\n",
    "plt.show()"
   ]
  },
  {
   "cell_type": "code",
   "execution_count": 11,
   "metadata": {
    "collapsed": false
   },
   "outputs": [
    {
     "name": "stdout",
     "output_type": "stream",
     "text": [
      "Media: 0.0281839698074\n",
      "Variância: 16.2944724873\n"
     ]
    }
   ],
   "source": [
    "mediasQuadrado = 0\n",
    "\n",
    "for i in medias:\n",
    "    mediasQuadrado += i**2\n",
    "\n",
    "print(\"Media: \" + str(sum(medias)/len(medias)))\n",
    "print(\"Variância: \" + str(mediasQuadrado/len(medias) - sum(medias)/len(medias)))\n"
   ]
  },
  {
   "cell_type": "markdown",
   "metadata": {
    "collapsed": true
   },
   "source": [
    "___\n",
    "### Item 3:"
   ]
  },
  {
   "cell_type": "code",
   "execution_count": 29,
   "metadata": {
    "collapsed": false
   },
   "outputs": [
    {
     "data": {
      "image/png": "[encoded data removed]",
      "text/plain": [
       "<matplotlib.figure.Figure at 0x19a9091afd0>"
      ]
     },
     "metadata": {},
     "output_type": "display_data"
    },
    {
     "name": "stdout",
     "output_type": "stream",
     "text": [
      "Para n = 4: \n",
      "\n",
      "Media: 0.00308567696788\n",
      "Variância: 8.35847681879\n",
      "___________________________________________________________________________________________\n",
      "\n",
      "\n"
     ]
    },
    {
     "data": {
      "image/png": "[encoded data removed]",
      "text/plain": [
       "<matplotlib.figure.Figure at 0x19a90ee2358>"
      ]
     },
     "metadata": {},
     "output_type": "display_data"
    },
    {
     "name": "stdout",
     "output_type": "stream",
     "text": [
      "Para n = 20: \n",
      "\n",
      "Media: 0.0221584099969\n",
      "Variância: 1.60408863889\n",
      "___________________________________________________________________________________________\n",
      "\n",
      "\n"
     ]
    },
    {
     "data": {
      "image/png": "[encoded data removed]",
      "text/plain": [
       "<matplotlib.figure.Figure at 0x19a90e30fd0>"
      ]
     },
     "metadata": {},
     "output_type": "display_data"
    },
    {
     "name": "stdout",
     "output_type": "stream",
     "text": [
      "Para n = 50: \n",
      "\n",
      "Media: 0.0084717211997\n",
      "Variância: 0.632692285826\n",
      "___________________________________________________________________________________________\n",
      "\n",
      "\n"
     ]
    }
   ],
   "source": [
    "n = [4, 20, 50]\n",
    "\n",
    "medias2 = [[], [], []]\n",
    "\n",
    "for i in range(3):\n",
    "    for j in range(10000):\n",
    "        sorteado = np.random.choice(p, n[i])\n",
    "        medias2[i].append(sum(sorteado)/len(sorteado))\n",
    "\n",
    "    plt.figure(figsize=(8,5))\n",
    "    plt.hist(medias2[i], bins=20)\n",
    "    plt.show()\n",
    "    \n",
    "    medias2Quadrado = 0\n",
    "\n",
    "    for k in medias2[i]:\n",
    "        medias2Quadrado += k**2\n",
    "    \n",
    "    print(\"Para n = \" + str(n[i]) + \": \\n\")\n",
    "    print(\"Media: \" + str(sum(medias2[i])/len(medias2[i])))\n",
    "    print(\"Variância: \" + str(medias2Quadrado/len(medias2[i]) - sum(medias2[i])/len(medias2[i])))\n",
    "    print(\"___________________________________________________________________________________________\\n\\n\")"
   ]
  },
  {
   "cell_type": "code",
   "execution_count": 30,
   "metadata": {
    "collapsed": false
   },
   "outputs": [
    {
     "name": "stdout",
     "output_type": "stream",
     "text": [
      "\n",
      "\n",
      "Para n = 4: \n",
      "\n",
      "Media esperada: 0.00119856689847\n",
      "Media encontrada: 0.00308567696788\n",
      "\n",
      "Variância esperada: 8.10196919481\n",
      "Variância encontrada: 8.35847681879\n",
      "\n",
      "\n",
      "Para n = 20: \n",
      "\n",
      "Media esperada: 0.00119856689847\n",
      "Media encontrada: 0.0221584099969\n",
      "\n",
      "Variância esperada: 1.62039383896\n",
      "Variância encontrada: 1.60408863889\n",
      "\n",
      "\n",
      "Para n = 50: \n",
      "\n",
      "Media esperada: 0.00119856689847\n",
      "Media encontrada: 0.0084717211997\n",
      "\n",
      "Variância esperada: 0.648157535585\n",
      "Variância encontrada: 0.632692285826\n"
     ]
    }
   ],
   "source": [
    "\n",
    "\n",
    "for i in range(3):\n",
    "    medias2Quadrado = 0\n",
    "    \n",
    "    for k in medias2[i]:\n",
    "        medias2Quadrado += k**2\n",
    "    \n",
    "    print(\"\\n\\nPara n = \" + str(n[i]) + \": \\n\")\n",
    "    print(\"Media esperada: \" + str(sum(p)/len(p)))\n",
    "    print(\"Media encontrada: \" + str(sum(medias2[i])/len(medias2[i])))\n",
    "    print(\"\\nVariância esperada: \" + str(((sum(p**2)/len(p)) - (sum(p)/len(p)))/n[i]))\n",
    "    print(\"Variância encontrada: \" + str(medias2Quadrado/len(medias2[i]) - sum(medias2[i])/len(medias2[i])))"
   ]
  },
  {
   "cell_type": "markdown",
   "metadata": {},
   "source": [
    "___\n",
    "### Item 4:"
   ]
  },
  {
   "cell_type": "markdown",
   "metadata": {
    "collapsed": true
   },
   "source": [
    "O Teorema do Limite Central (TLC) explica que para uma amostra aleatória retirada de uma população cuja variável de interesse X tem média μ e variância σ^2, então a distribuição de da média amostral ( ̅X) se aproxima de uma distribuição normal com média μ e variância σ^2/n, quando n tende ao infinito (suficientemente grande).\n",
    "\n",
    "Neste Mini Projeto foi gerada uma população qualquer no item 1, na qual será analisada. No item 2 foi demonstrado como se pode criar uma amostra aleatória, sorteando n dados por amostra e calculando sua média. Em seguida, analisamos a distribuição das amostras calculando a média e a variância e as comparando com as da população do item 1. \n",
    "\n",
    "Podemos notar que, como dito anteriormente, a média das amostras se aproxima da média da população (μ), e a variância das amostras se aproxima ao resultado de σ^2/n, sendo σ^2 a variância da população. Porém, se quisermos melhorar a precisão da média encontrada, precisamos aumentar o n, porque quanto maior o n, a média encontrada será mais próxima de μ.\n",
    "O item 3 visa analisar como o aumento do n interfere nos resultados. E, como esperado, a média foi se aproximando de μ e a variância foi se aproximando de 0 (por conta do resultado de σ^2/n)."
   ]
  },
  {
   "cell_type": "markdown",
   "metadata": {
    "collapsed": true
   },
   "source": [
    "___"
   ]
  },
  {
   "cell_type": "code",
   "execution_count": 32,
   "metadata": {
    "collapsed": false
   },
   "outputs": [
    {
     "data": {
      "image/png": "[encoded data removed]",
      "text/plain": [
       "<matplotlib.figure.Figure at 0x19a90f36fd0>"
      ]
     },
     "metadata": {},
     "output_type": "display_data"
    }
   ],
   "source": [
    "x1 = []\n",
    "x9 = []\n",
    "\n",
    "for i in range(10000):\n",
    "    escolhas = np.random.choice(p, 50)\n",
    "    x1.append(escolhas[0])\n",
    "    x9.append(escolhas[8])\n",
    "\n",
    "plt.hist(x1, bins=20)\n",
    "plt.show()"
   ]
  },
  {
   "cell_type": "code",
   "execution_count": 33,
   "metadata": {
    "collapsed": false
   },
   "outputs": [
    {
     "data": {
      "image/png": "[encoded data removed]",
      "text/plain": [
       "<matplotlib.figure.Figure at 0x19a92f6a828>"
      ]
     },
     "metadata": {},
     "output_type": "display_data"
    }
   ],
   "source": [
    "plt.hist(x9, bins=20)\n",
    "plt.show()"
   ]
  },
  {
   "cell_type": "code",
   "execution_count": 43,
   "metadata": {
    "collapsed": false
   },
   "outputs": [
    {
     "name": "stdout",
     "output_type": "stream",
     "text": [
      "Média X1: -0.0530361836159\n",
      "Média X9: 0.046378038676\n",
      "Média item 1: 0.00119856689847\n",
      "\n",
      "X1 e X9 não são identicamente distribuídas a X.\n"
     ]
    }
   ],
   "source": [
    "mx1 = np.mean(x1)\n",
    "mx9 = np.mean(x9)\n",
    "\n",
    "print(\"Média X1: \" + str(mx1))\n",
    "print(\"Média X9: \" + str(mx9))\n",
    "print(\"Média item 1: \" + str(np.mean(p)))\n",
    "print(\"\\nX1 e X9 não são identicamente distribuídas a X.\")"
   ]
  },
  {
   "cell_type": "code",
   "execution_count": 39,
   "metadata": {
    "collapsed": false
   },
   "outputs": [
    {
     "name": "stdout",
     "output_type": "stream",
     "text": [
      "Correlação entre X1 e X9: 0.00606074299596\n"
     ]
    }
   ],
   "source": [
    "cor = np.corrcoef(x1, x9)\n",
    "\n",
    "print(\"Correlação entre X1 e X9: \" + str(cor[1][0]))"
   ]
  },
  {
   "cell_type": "code",
   "execution_count": null,
   "metadata": {
    "collapsed": true
   },
   "outputs": [],
   "source": []
  }
 ],
 "metadata": {
  "anaconda-cloud": {},
  "kernelspec": {
   "display_name": "Python 3",
   "language": "python",
   "name": "python3"
  },
  "language_info": {
   "codemirror_mode": {
    "name": "ipython",
    "version": 3
   },
   "file_extension": ".py",
   "mimetype": "text/x-python",
   "name": "python",
   "nbconvert_exporter": "python",
   "pygments_lexer": "ipython3",
   "version": "3.5.2"
  }
 },
 "nbformat": 4,
 "nbformat_minor": 0
}
