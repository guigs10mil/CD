{
 "cells": [
  {
   "cell_type": "markdown",
   "metadata": {},
   "source": [
    "___\n",
    "# Atividade: Variáveis qualitativas com a PNAD (ALUNOS)\n",
    "___\n",
    "\n",
    "## Aula 02\n",
    "\n",
    "\n",
    "**Link úteis:**\n",
    "1.\tLeitura prévia necessária: Magalhães e Lima (7ª. Edição): pág. 9 a 16 – destacando para variáveis qualitativas.\n",
    "2.\t10 Minutes to Pandas: http://pandas.pydata.org/pandas-docs/stable/10min.html\n",
    "3.\tEssential Basic Functionality: http://pandas.pydata.org/pandas-docs/stable/basics.html\n",
    "4.  Estude a aula `Aula02 Análise Exploratoria Variáveis Qualitativas-ALUNOS.ipynb`, o qual contém uma introdução ao Jupyter Notebook. A publicação dessa aula tem como objetivo auxiliá-lo, caso queira, no desenvolvimento dos seus próximos programas, como esta atividade.\n",
    "\n",
    "**Hoje:**\n",
    "1.\tAnalisar variáveis qualitativas de forma uni e bivariadas utilizando tabelas de frequências e gráficos de barras e de pizza (ou setor).\n",
    "2.  Trabalhar com a base de dados da PNAD 2013 - Pesquisa Nacional por Amostra de Domicílios\n",
    "\n",
    "**Próxima aula:**\n",
    "1.\tLeitura prévia necessária: Magalhães e Lima (7ª. Edição): pág. 9 a 17 – destacando para variáveis quantitativas; pág. 106 e 107 (Definição 4.1 e Exemplo 4.1).\n",
    "\n",
    "___\n"
   ]
  },
  {
   "cell_type": "markdown",
   "metadata": {},
   "source": [
    "___\n",
    "## <font color='blue'>PNAD 2013 – PESQUISA NACIONAL POR AMOSTRA DE DOMICÍLIOS</font>\n",
    "\n",
    "**Base de dados reduzida: ** `pes2013A.txt` (75 MB)\n",
    "[Acesse a base de dados aqui: https://dl.dropboxusercontent.com/u/65763596/Aula02/pes2013A.txt] \n",
    "\n",
    "**Dicionário das variáveis: ** `Dicionário de variáveis de pessoas - PNAD 2013.xlsx`\n",
    "[Acesse dicionário aqui: https://dl.dropboxusercontent.com/u/65763596/Aula02/Dicion%C3%A1rio%20de%20vari%C3%A1veis%20de%20pessoas%20-%20PNAD%202013.xls]\n",
    "\n",
    "\n",
    "Muitos especialistas na área de negócios dizem que empresários mais bem sucedidos são aqueles que fazem um planejamento antes de começar seu próprio negócio. Nessa visão, imagine que o Sr. Gold tenha como grande objetivo abrir uma nova faculdade e para isso deseja estudar o perfil do estudante que cursa ensino médio ou pré-vestibular e do que cursa ensino superior. \n",
    "\n",
    "Assuma que as variáveis de interesse a respeito dos estudantes sejam relativamente as mesmas de 2013 até o momento atual. Nesse caso, seja criativo para ajudar o Sr. Gold que deseja abrir seu negócio, mas não tem certeza sobre quais variáveis o interessam. \n",
    "\n",
    "Vocês podem ajudá-lo?!  \n",
    "\n",
    "As variáveis a seguir devem fazer parte da sua análise:\n",
    "\n",
    "* V0302: sexo\n",
    "* V0404: cor ou raça\n",
    "* V6002: rede de ensino\n",
    "* V4802: nível de ensino e grupos de séries do ensino fundamental que frequentavam (todos os estudantes)\n",
    "\n",
    "** Crie uma variável com região do indivíduo amostrado considerando a variável `UF` que define o estado e também trabalhe com essa nova variável em suas análises. ** \n",
    "\n",
    "** Escolha mais pelo menos DUAS variáveis qualitativas para completar sua análise!! **\n",
    "\n",
    "Faça uma análise exploratória apenas com as variáveis qualitativas com foco no objetivo do Sr. Gold.\n",
    "\n",
    "Sua análise deve conter pelo menos uma das seguintes visualizações:\n",
    "\n",
    "1. Gráfico de colunas (bar) e setor (pie) com as frequências relativas cadas categorias das variáveis qualitativas.\n",
    "2. Tabela cruzada entre pares de variaveis qualitativas. Montar o gráfico de colunas. Repetir o processo habilitando a opção \"stacked=True\".\n",
    "\n",
    "\n",
    "___\n",
    "\n",
    "\n",
    "\n",
    "<font color='red'>\n",
    "Crie um repositório chamado CD em seu Github\n",
    "</font>\n",
    "\n",
    "\n",
    "Neste repositório, salve seu trabalho numa pasta chamada aula2\n",
    "\n",
    "Por exemplo, se seu login for *pikachu* o projeto vai estar na pasta:\n",
    "\n",
    "https://github.com/<font color=red>pikachu/CD/aula2</font>\n",
    "\n",
    "\n",
    "\n",
    "## <font color='red'>Terça-feira (dia 16/08), no horário de atendimento da sua turma, deverá apresentar aos NINJAS!!</font>\n",
    "___"
   ]
  },
  {
   "cell_type": "code",
   "execution_count": 813,
   "metadata": {
    "collapsed": false
   },
   "outputs": [],
   "source": [
    "%matplotlib inline\n",
    "import pandas as pd\n",
    "import matplotlib.pyplot as plt\n",
    "import os"
   ]
  },
  {
   "cell_type": "code",
   "execution_count": null,
   "metadata": {
    "collapsed": false
   },
   "outputs": [],
   "source": []
  },
  {
   "cell_type": "code",
   "execution_count": 814,
   "metadata": {
    "collapsed": false
   },
   "outputs": [],
   "source": [
    "dados = pd.read_table(\"pes2013A.txt\", sep=\" \")\n",
    "\n",
    "\n",
    "dados.V0302 = dados.V0302.astype('category')"
   ]
  },
  {
   "cell_type": "code",
   "execution_count": 815,
   "metadata": {
    "collapsed": false,
    "scrolled": false
   },
   "outputs": [],
   "source": [
    "dados.V0302.cat.categories = ('Masculino', 'Feminino')\n",
    "\n",
    "#dados.V0302"
   ]
  },
  {
   "cell_type": "code",
   "execution_count": 816,
   "metadata": {
    "collapsed": false
   },
   "outputs": [
    {
     "data": {
      "text/plain": [
       "Feminino     186453\n",
       "Masculino    176102\n",
       "Name: V0302, dtype: int64"
      ]
     },
     "execution_count": 816,
     "metadata": {},
     "output_type": "execute_result"
    }
   ],
   "source": [
    "dados.V0302.value_counts()"
   ]
  },
  {
   "cell_type": "code",
   "execution_count": 817,
   "metadata": {
    "collapsed": false
   },
   "outputs": [
    {
     "data": {
      "text/plain": [
       "[186453, 176102]"
      ]
     },
     "execution_count": 817,
     "metadata": {},
     "output_type": "execute_result"
    }
   ],
   "source": [
    "list(dados.V0302.value_counts())"
   ]
  },
  {
   "cell_type": "code",
   "execution_count": 818,
   "metadata": {
    "collapsed": false
   },
   "outputs": [
    {
     "data": {
      "text/plain": [
       "Feminino     51.427508\n",
       "Masculino    48.572492\n",
       "Name: V0302, dtype: float64"
      ]
     },
     "execution_count": 818,
     "metadata": {},
     "output_type": "execute_result"
    }
   ],
   "source": [
    "dados.V0302.value_counts(True) * 100"
   ]
  },
  {
   "cell_type": "code",
   "execution_count": 819,
   "metadata": {
    "collapsed": false
   },
   "outputs": [
    {
     "data": {
      "text/plain": [
       "<matplotlib.axes._subplots.AxesSubplot at 0x21f524cee10>"
      ]
     },
     "execution_count": 819,
     "metadata": {},
     "output_type": "execute_result"
    },
    {
     "data": {
      "image/png": "[encoded data removed]",
      "text/plain": [
       "<matplotlib.figure.Figure at 0x21f524beb70>"
      ]
     },
     "metadata": {},
     "output_type": "display_data"
    }
   ],
   "source": [
    "pie = dados.V0302.value_counts(True) * 100\n",
    "pie.plot(kind='pie', colors=('r', 'y'), autopct=\"%0.2f\", legend=False, title=\"Sexo\")"
   ]
  },
  {
   "cell_type": "code",
   "execution_count": 820,
   "metadata": {
    "collapsed": false
   },
   "outputs": [],
   "source": [
    "dados.V0404 = dados.V0404.astype('category')\n",
    "\n",
    "dados.V0404.cat.categories = ('Indígena', 'Branca', 'Preta', 'Amarela', 'Parda', 'Sem declaração')\n",
    "\n",
    "#dados.V0404"
   ]
  },
  {
   "cell_type": "code",
   "execution_count": 821,
   "metadata": {
    "collapsed": false
   },
   "outputs": [
    {
     "data": {
      "text/plain": [
       "Parda             174042\n",
       "Branca            155218\n",
       "Preta              30130\n",
       "Indígena            1688\n",
       "Amarela             1471\n",
       "Sem declaração         6\n",
       "Name: V0404, dtype: int64"
      ]
     },
     "execution_count": 821,
     "metadata": {},
     "output_type": "execute_result"
    }
   ],
   "source": [
    "dados.V0404.value_counts()"
   ]
  },
  {
   "cell_type": "code",
   "execution_count": 822,
   "metadata": {
    "collapsed": false
   },
   "outputs": [
    {
     "data": {
      "text/plain": [
       "<matplotlib.axes._subplots.AxesSubplot at 0x21f602d4400>"
      ]
     },
     "execution_count": 822,
     "metadata": {},
     "output_type": "execute_result"
    },
    {
     "data": {
      "image/png": "[encoded data removed]",
      "text/plain": [
       "<matplotlib.figure.Figure at 0x21f602e6be0>"
      ]
     },
     "metadata": {},
     "output_type": "display_data"
    }
   ],
   "source": [
    "bar = dados.V0404.value_counts(True) * 100\n",
    "bar.plot(kind='bar', color=('r', 'b', 'g', 'y', 'cyan', 'white'), legend=False, title=\"Cor ou raça\")"
   ]
  },
  {
   "cell_type": "code",
   "execution_count": 823,
   "metadata": {
    "collapsed": false
   },
   "outputs": [],
   "source": [
    "dados.V6002 = dados.V6002.astype('category')\n",
    "\n",
    "dados.V6002.cat.categories = ('Pública', 'Privada')\n",
    "\n",
    "#dados.V6002"
   ]
  },
  {
   "cell_type": "code",
   "execution_count": 824,
   "metadata": {
    "collapsed": false
   },
   "outputs": [
    {
     "data": {
      "text/plain": [
       "<matplotlib.axes._subplots.AxesSubplot at 0x21f46d21160>"
      ]
     },
     "execution_count": 824,
     "metadata": {},
     "output_type": "execute_result"
    },
    {
     "data": {
      "image/png": "[encoded data removed]",
      "text/plain": [
       "<matplotlib.figure.Figure at 0x21f46d28a58>"
      ]
     },
     "metadata": {},
     "output_type": "display_data"
    }
   ],
   "source": [
    "bar2 = dados.V6002.value_counts(True) * 100\n",
    "bar2.plot(kind='pie', colors=('r', 'y'), autopct=\"%0.2f\", legend=False, title=\"Rede de ensino\")"
   ]
  },
  {
   "cell_type": "code",
   "execution_count": 825,
   "metadata": {
    "collapsed": false
   },
   "outputs": [],
   "source": [
    "dados.V4802 = dados.V4802.astype('category')\n",
    "\n",
    "dados.V4802.cat.categories = ('Maternal, jardim de infância etc.', 'Classe de alfabetização', 'Alfabetização de adultos', '1ª a 4ª séries do ensino fundamental regular em 8 anos ou de educação de jovens e adultos', '5ª a 8ª séries do ensino fundamental regular em 8 anos ou de educação de jovens e adultos', '1ª série do ensino fundamental regular em 9 anos', '2ª a 5ª séries do ensino fundamental regular em 9 anos ', '6ª a 9ª séries do ensino fundamental regular em 9 anos ', 'Educação de jovens e adultos não seriado do ensino fundamental', 'Ensino médio, inclusive pré-vestibular', 'Superior, inclusive mestrado ou doutorado')\n",
    "\n",
    "#dados.V4802"
   ]
  },
  {
   "cell_type": "code",
   "execution_count": 826,
   "metadata": {
    "collapsed": false
   },
   "outputs": [
    {
     "data": {
      "text/plain": [
       "<matplotlib.axes._subplots.AxesSubplot at 0x21f602cd3c8>"
      ]
     },
     "execution_count": 826,
     "metadata": {},
     "output_type": "execute_result"
    },
    {
     "data": {
      "image/png": "[encoded data removed]",
      "text/plain": [
       "<matplotlib.figure.Figure at 0x21f5cb619e8>"
      ]
     },
     "metadata": {},
     "output_type": "display_data"
    }
   ],
   "source": [
    "bar3 = dados.V4802.value_counts(True) * 100\n",
    "bar3.plot(kind='bar', color=('r', 'b', 'g', 'y', 'cyan', 'white'), legend=False)"
   ]
  },
  {
   "cell_type": "code",
   "execution_count": 827,
   "metadata": {
    "collapsed": false
   },
   "outputs": [],
   "source": [
    "dados.UF = dados.UF.astype('category')\n",
    "\n",
    "#dados.UF.cat.categories = ('Rondônia', \"Acre\",\"Amazonas\",\"Roraima\",\"Pará\",\"Amapá\",\"Tocantins\",\"Maranhão\",\"Piauí\",\"Ceará\",\"Rio Grande do Norte\",\"Paraíba\",\"Pernambuco\",\"Alagoas\",\"Sergipe\",\"Bahia\",\"Minas Gerais\",\"Espírito Santo\",\"Rio de Janeiro\",\"São Paulo\",\"Paraná\",\"Santa Catarina\",\"Rio Grande do Sul\",\"Mato Grosso do Sul\",\"Mato Grosso\",\"Goiás\",\"Distrito Federal\")\n",
    "\n",
    "#dados.UF.categories()"
   ]
  },
  {
   "cell_type": "code",
   "execution_count": 828,
   "metadata": {
    "collapsed": false
   },
   "outputs": [],
   "source": [
    "#dados.UF.value_counts()\n",
    "\n",
    "#dados[\"\"]"
   ]
  },
  {
   "cell_type": "code",
   "execution_count": 829,
   "metadata": {
    "collapsed": false
   },
   "outputs": [
    {
     "data": {
      "text/plain": [
       "<matplotlib.axes._subplots.AxesSubplot at 0x21f31eb7f98>"
      ]
     },
     "execution_count": 829,
     "metadata": {},
     "output_type": "execute_result"
    },
    {
     "data": {
      "image/png": "[encoded data removed]",
      "text/plain": [
       "<matplotlib.figure.Figure at 0x21f31eaf438>"
      ]
     },
     "metadata": {},
     "output_type": "display_data"
    }
   ],
   "source": [
    "def regiao(uf):\n",
    "    if uf < 18:\n",
    "        return \"Norte\"\n",
    "    elif uf < 30:\n",
    "        return \"Nordeste\"\n",
    "    elif uf < 36:\n",
    "        return \"Sudeste\"\n",
    "    elif uf < 44:\n",
    "        return \"Sul\"\n",
    "    else:\n",
    "        return \"Centro-oeste\"\n",
    "    \n",
    "dados.UF = dados.UF.map(regiao)\n",
    "\n",
    "bar4 = dados.UF.value_counts(True) * 100\n",
    "\n",
    "bar4.plot(kind='pie', colors=('r', 'cyan', 'g', 'y', 'b', 'b', 'cyan', 'cyan', 'y', 'cyan', 'r', 'b', 'g', 'y', 'cyan', 'r', 'b', 'g', 'y', 'cyan', 'r', 'b', 'g', 'y', 'cyan', 'r', 'b'),legend=False, title=\"UF\")\n",
    "\n",
    "#E = list(dados.UF.value_counts(True) * 100)\n",
    "#norte = E[5, 10]\n",
    "#sul = E[3, 8, 11]\n",
    "#sudeste = E[0, 1, 4]\n",
    "#nordeste = E[2, 6, 7]\n",
    "#centro = E[9, 12]\n",
    "\n"
   ]
  },
  {
   "cell_type": "code",
   "execution_count": 830,
   "metadata": {
    "collapsed": false
   },
   "outputs": [
    {
     "data": {
      "text/plain": [
       "<matplotlib.axes._subplots.AxesSubplot at 0x21f3223cbe0>"
      ]
     },
     "execution_count": 830,
     "metadata": {},
     "output_type": "execute_result"
    },
    {
     "data": {
      "image/png": "[encoded data removed]",
      "text/plain": [
       "<matplotlib.figure.Figure at 0x21f523f30b8>"
      ]
     },
     "metadata": {},
     "output_type": "display_data"
    }
   ],
   "source": [
    "dados.V0601 = dados.V0601.astype('category')\n",
    "\n",
    "dados.V0601.cat.categories = (\"Sabem ler e escrever\", \"Não sabem ler e escrever\")\n",
    "#dados.UF\n",
    "\n",
    "ct2 = pd.crosstab(dados.UF, dados.V0601)\n",
    "soma2 = ct2.sum().sum()\n",
    "ct2 = ct2*100/soma2\n",
    "\n",
    "#bar5 = dados.V0601.value_counts(True) * 100\n",
    "ct2.plot(kind='bar', color=('r', 'y', 'g', 'y', 'cyan', 'white'))"
   ]
  },
  {
   "cell_type": "code",
   "execution_count": 831,
   "metadata": {
    "collapsed": false
   },
   "outputs": [
    {
     "data": {
      "text/html": [
       "<div>\n",
       "<table border=\"1\" class=\"dataframe\">\n",
       "  <thead>\n",
       "    <tr style=\"text-align: right;\">\n",
       "      <th>V4802</th>\n",
       "      <th>Maternal, jardim de infância etc.</th>\n",
       "      <th>Classe de alfabetização</th>\n",
       "      <th>Alfabetização de adultos</th>\n",
       "      <th>1ª a 4ª séries do ensino fundamental regular em 8 anos ou de educação de jovens e adultos</th>\n",
       "      <th>5ª a 8ª séries do ensino fundamental regular em 8 anos ou de educação de jovens e adultos</th>\n",
       "      <th>1ª série do ensino fundamental regular em 9 anos</th>\n",
       "      <th>2ª a 5ª séries do ensino fundamental regular em 9 anos</th>\n",
       "      <th>6ª a 9ª séries do ensino fundamental regular em 9 anos</th>\n",
       "      <th>Educação de jovens e adultos não seriado do ensino fundamental</th>\n",
       "      <th>Ensino médio, inclusive pré-vestibular</th>\n",
       "      <th>Superior, inclusive mestrado ou doutorado</th>\n",
       "    </tr>\n",
       "    <tr>\n",
       "      <th>V6002</th>\n",
       "      <th></th>\n",
       "      <th></th>\n",
       "      <th></th>\n",
       "      <th></th>\n",
       "      <th></th>\n",
       "      <th></th>\n",
       "      <th></th>\n",
       "      <th></th>\n",
       "      <th></th>\n",
       "      <th></th>\n",
       "      <th></th>\n",
       "    </tr>\n",
       "  </thead>\n",
       "  <tbody>\n",
       "    <tr>\n",
       "      <th>Pública</th>\n",
       "      <td>4457</td>\n",
       "      <td>788</td>\n",
       "      <td>413</td>\n",
       "      <td>997</td>\n",
       "      <td>2033</td>\n",
       "      <td>4645</td>\n",
       "      <td>21575</td>\n",
       "      <td>19835</td>\n",
       "      <td>454</td>\n",
       "      <td>14973</td>\n",
       "      <td>3647</td>\n",
       "    </tr>\n",
       "    <tr>\n",
       "      <th>Privada</th>\n",
       "      <td>1836</td>\n",
       "      <td>285</td>\n",
       "      <td>22</td>\n",
       "      <td>95</td>\n",
       "      <td>129</td>\n",
       "      <td>1040</td>\n",
       "      <td>3822</td>\n",
       "      <td>3137</td>\n",
       "      <td>19</td>\n",
       "      <td>2430</td>\n",
       "      <td>9997</td>\n",
       "    </tr>\n",
       "  </tbody>\n",
       "</table>\n",
       "</div>"
      ],
      "text/plain": [
       "V4802    Maternal, jardim de infância etc.  Classe de alfabetização  \\\n",
       "V6002                                                                 \n",
       "Pública                               4457                      788   \n",
       "Privada                               1836                      285   \n",
       "\n",
       "V4802    Alfabetização de adultos  \\\n",
       "V6002                               \n",
       "Pública                       413   \n",
       "Privada                        22   \n",
       "\n",
       "V4802    1ª a 4ª séries do ensino fundamental regular em 8 anos ou de educação de jovens e adultos  \\\n",
       "V6002                                                                                                \n",
       "Pública                                                997                                           \n",
       "Privada                                                 95                                           \n",
       "\n",
       "V4802    5ª a 8ª séries do ensino fundamental regular em 8 anos ou de educação de jovens e adultos  \\\n",
       "V6002                                                                                                \n",
       "Pública                                               2033                                           \n",
       "Privada                                                129                                           \n",
       "\n",
       "V4802    1ª série do ensino fundamental regular em 9 anos  \\\n",
       "V6002                                                       \n",
       "Pública                                              4645   \n",
       "Privada                                              1040   \n",
       "\n",
       "V4802    2ª a 5ª séries do ensino fundamental regular em 9 anos   \\\n",
       "V6002                                                              \n",
       "Pública                                              21575         \n",
       "Privada                                               3822         \n",
       "\n",
       "V4802    6ª a 9ª séries do ensino fundamental regular em 9 anos   \\\n",
       "V6002                                                              \n",
       "Pública                                              19835         \n",
       "Privada                                               3137         \n",
       "\n",
       "V4802    Educação de jovens e adultos não seriado do ensino fundamental  \\\n",
       "V6002                                                                     \n",
       "Pública                                                454                \n",
       "Privada                                                 19                \n",
       "\n",
       "V4802    Ensino médio, inclusive pré-vestibular  \\\n",
       "V6002                                             \n",
       "Pública                                   14973   \n",
       "Privada                                    2430   \n",
       "\n",
       "V4802    Superior, inclusive mestrado ou doutorado  \n",
       "V6002                                               \n",
       "Pública                                       3647  \n",
       "Privada                                       9997  "
      ]
     },
     "execution_count": 831,
     "metadata": {},
     "output_type": "execute_result"
    }
   ],
   "source": [
    "ct = pd.crosstab(dados.V6002, dados.V4802)\n",
    "ct"
   ]
  },
  {
   "cell_type": "code",
   "execution_count": 832,
   "metadata": {
    "collapsed": false
   },
   "outputs": [
    {
     "data": {
      "text/plain": [
       "V4802\n",
       "Maternal, jardim de infância etc.                                                             6293\n",
       "Classe de alfabetização                                                                       1073\n",
       "Alfabetização de adultos                                                                       435\n",
       "1ª a 4ª séries do ensino fundamental regular em 8 anos ou de educação de jovens e adultos     1092\n",
       "5ª a 8ª séries do ensino fundamental regular em 8 anos ou de educação de jovens e adultos     2162\n",
       "1ª série do ensino fundamental regular em 9 anos                                              5685\n",
       "2ª a 5ª séries do ensino fundamental regular em 9 anos                                       25397\n",
       "6ª a 9ª séries do ensino fundamental regular em 9 anos                                       22972\n",
       "Educação de jovens e adultos não seriado do ensino fundamental                                 473\n",
       "Ensino médio, inclusive pré-vestibular                                                       17403\n",
       "Superior, inclusive mestrado ou doutorado                                                    13644\n",
       "dtype: int64"
      ]
     },
     "execution_count": 832,
     "metadata": {},
     "output_type": "execute_result"
    }
   ],
   "source": [
    "ct.sum()"
   ]
  },
  {
   "cell_type": "code",
   "execution_count": 833,
   "metadata": {
    "collapsed": false
   },
   "outputs": [
    {
     "data": {
      "text/plain": [
       "96629"
      ]
     },
     "execution_count": 833,
     "metadata": {},
     "output_type": "execute_result"
    }
   ],
   "source": [
    "soma = ct.sum().sum()\n",
    "soma"
   ]
  },
  {
   "cell_type": "code",
   "execution_count": 834,
   "metadata": {
    "collapsed": false
   },
   "outputs": [
    {
     "data": {
      "text/html": [
       "<div>\n",
       "<table border=\"1\" class=\"dataframe\">\n",
       "  <thead>\n",
       "    <tr style=\"text-align: right;\">\n",
       "      <th>V4802</th>\n",
       "      <th>Maternal, jardim de infância etc.</th>\n",
       "      <th>Classe de alfabetização</th>\n",
       "      <th>Alfabetização de adultos</th>\n",
       "      <th>1ª a 4ª séries do ensino fundamental regular em 8 anos ou de educação de jovens e adultos</th>\n",
       "      <th>5ª a 8ª séries do ensino fundamental regular em 8 anos ou de educação de jovens e adultos</th>\n",
       "      <th>1ª série do ensino fundamental regular em 9 anos</th>\n",
       "      <th>2ª a 5ª séries do ensino fundamental regular em 9 anos</th>\n",
       "      <th>6ª a 9ª séries do ensino fundamental regular em 9 anos</th>\n",
       "      <th>Educação de jovens e adultos não seriado do ensino fundamental</th>\n",
       "      <th>Ensino médio, inclusive pré-vestibular</th>\n",
       "      <th>Superior, inclusive mestrado ou doutorado</th>\n",
       "    </tr>\n",
       "    <tr>\n",
       "      <th>V6002</th>\n",
       "      <th></th>\n",
       "      <th></th>\n",
       "      <th></th>\n",
       "      <th></th>\n",
       "      <th></th>\n",
       "      <th></th>\n",
       "      <th></th>\n",
       "      <th></th>\n",
       "      <th></th>\n",
       "      <th></th>\n",
       "      <th></th>\n",
       "    </tr>\n",
       "  </thead>\n",
       "  <tbody>\n",
       "    <tr>\n",
       "      <th>Pública</th>\n",
       "      <td>4.612487</td>\n",
       "      <td>0.815490</td>\n",
       "      <td>0.427408</td>\n",
       "      <td>1.031781</td>\n",
       "      <td>2.103923</td>\n",
       "      <td>4.807046</td>\n",
       "      <td>22.327666</td>\n",
       "      <td>20.526964</td>\n",
       "      <td>0.469838</td>\n",
       "      <td>15.495348</td>\n",
       "      <td>3.774229</td>\n",
       "    </tr>\n",
       "    <tr>\n",
       "      <th>Privada</th>\n",
       "      <td>1.900051</td>\n",
       "      <td>0.294943</td>\n",
       "      <td>0.022767</td>\n",
       "      <td>0.098314</td>\n",
       "      <td>0.133500</td>\n",
       "      <td>1.076281</td>\n",
       "      <td>3.955334</td>\n",
       "      <td>3.246437</td>\n",
       "      <td>0.019663</td>\n",
       "      <td>2.514773</td>\n",
       "      <td>10.345755</td>\n",
       "    </tr>\n",
       "  </tbody>\n",
       "</table>\n",
       "</div>"
      ],
      "text/plain": [
       "V4802    Maternal, jardim de infância etc.  Classe de alfabetização  \\\n",
       "V6002                                                                 \n",
       "Pública                           4.612487                 0.815490   \n",
       "Privada                           1.900051                 0.294943   \n",
       "\n",
       "V4802    Alfabetização de adultos  \\\n",
       "V6002                               \n",
       "Pública                  0.427408   \n",
       "Privada                  0.022767   \n",
       "\n",
       "V4802    1ª a 4ª séries do ensino fundamental regular em 8 anos ou de educação de jovens e adultos  \\\n",
       "V6002                                                                                                \n",
       "Pública                                           1.031781                                           \n",
       "Privada                                           0.098314                                           \n",
       "\n",
       "V4802    5ª a 8ª séries do ensino fundamental regular em 8 anos ou de educação de jovens e adultos  \\\n",
       "V6002                                                                                                \n",
       "Pública                                           2.103923                                           \n",
       "Privada                                           0.133500                                           \n",
       "\n",
       "V4802    1ª série do ensino fundamental regular em 9 anos  \\\n",
       "V6002                                                       \n",
       "Pública                                          4.807046   \n",
       "Privada                                          1.076281   \n",
       "\n",
       "V4802    2ª a 5ª séries do ensino fundamental regular em 9 anos   \\\n",
       "V6002                                                              \n",
       "Pública                                          22.327666         \n",
       "Privada                                           3.955334         \n",
       "\n",
       "V4802    6ª a 9ª séries do ensino fundamental regular em 9 anos   \\\n",
       "V6002                                                              \n",
       "Pública                                          20.526964         \n",
       "Privada                                           3.246437         \n",
       "\n",
       "V4802    Educação de jovens e adultos não seriado do ensino fundamental  \\\n",
       "V6002                                                                     \n",
       "Pública                                           0.469838                \n",
       "Privada                                           0.019663                \n",
       "\n",
       "V4802    Ensino médio, inclusive pré-vestibular  \\\n",
       "V6002                                             \n",
       "Pública                               15.495348   \n",
       "Privada                                2.514773   \n",
       "\n",
       "V4802    Superior, inclusive mestrado ou doutorado  \n",
       "V6002                                               \n",
       "Pública                                   3.774229  \n",
       "Privada                                  10.345755  "
      ]
     },
     "execution_count": 834,
     "metadata": {},
     "output_type": "execute_result"
    }
   ],
   "source": [
    "ct = ct*100/soma\n",
    "\n",
    "ct"
   ]
  },
  {
   "cell_type": "code",
   "execution_count": 835,
   "metadata": {
    "collapsed": false
   },
   "outputs": [
    {
     "data": {
      "text/plain": [
       "<matplotlib.axes._subplots.AxesSubplot at 0x21f31ec02e8>"
      ]
     },
     "execution_count": 835,
     "metadata": {},
     "output_type": "execute_result"
    },
    {
     "data": {
      "image/png": "[encoded data removed]",
      "text/plain": [
       "<matplotlib.figure.Figure at 0x21f3276de48>"
      ]
     },
     "metadata": {},
     "output_type": "display_data"
    }
   ],
   "source": [
    "ct.plot(kind = \"bar\", color=((0.5,0.8,0.3), (0,0.5,1), (0.8,0.5,0.8), 'white', 'salmon'), stacked=True, legend=False)"
   ]
  },
  {
   "cell_type": "code",
   "execution_count": null,
   "metadata": {
    "collapsed": false
   },
   "outputs": [],
   "source": []
  },
  {
   "cell_type": "code",
   "execution_count": 836,
   "metadata": {
    "collapsed": false
   },
   "outputs": [],
   "source": [
    "#dados[\"Regioes\"] = dados.UF\n",
    "\n",
    "#dados.Regioes = dados.Regioes.astype('category')\n",
    "\n",
    "#dados.Regioes[dados.UF == 11] = 'Norte'\n",
    "#dados.Regiões[18 < dados.UF < 30] = 'Nordeste'\n",
    "#dados.Regiões[30 < dados.UF < 36] = 'Sudeste'\n",
    "#dados.Regiões[36 < dados.UF < 44] = 'Sul'\n",
    "#dados.Regiões[44 < dados.UF] = 'Centro-oeste'\n",
    "\n",
    "#dados.Regioes"
   ]
  },
  {
   "cell_type": "markdown",
   "metadata": {},
   "source": [
    "<font size=23>**Conclusão**</font>\n",
    "\n",
    "Com a análise realizada, podemos concluir para o Mr. Gold que as melhores opções para a instalação de sua futura faculdade estão localizadas nas regiões Sudeste e Sul, visto que nelas o índice de escolaridade é maior, demonstrando um maior interesse e demanda por educação, além da maior concentração de população.(especialmente em idade alvo para a escolarização)\n",
    "\n",
    "By Frederico Curti & Guilherme Schoueri"
   ]
  },
  {
   "cell_type": "code",
   "execution_count": 837,
   "metadata": {
    "collapsed": false
   },
   "outputs": [
    {
     "data": {
      "text/plain": [
       "<matplotlib.axes._subplots.AxesSubplot at 0x21f3282d048>"
      ]
     },
     "execution_count": 837,
     "metadata": {},
     "output_type": "execute_result"
    },
    {
     "data": {
      "image/png": "[encoded data removed]",
      "text/plain": [
       "<matplotlib.figure.Figure at 0x21f328332e8>"
      ]
     },
     "metadata": {},
     "output_type": "display_data"
    }
   ],
   "source": [
    "#dados.V8005 = dados.V8005.astype('category')\n",
    "idade = dados.V8005\n",
    "#dados.V0601.cat.categories = (\"Sabem ler e escrever\", \"Não sabem ler e escrever\")\n",
    "#FaixaEtaria = []\n",
    "\n",
    "#def FaixaEtaria(anos):\n",
    "#    if anos < 18:\n",
    "#        return \"Menor (0 - 18)\"\n",
    "#    elif anos < 30:\n",
    "#        return \"Jovem Adulto (18 - 30)\"\n",
    "#    elif anos < 65:\n",
    "#        return \"Adulto (30 - 65)\"\n",
    "#    else:\n",
    "#        return \"idoso (65 - 120)\"\n",
    "#    \n",
    "#idade = idade.map(FaixaEtaria)\n",
    "\n",
    "\n",
    "#pie4 = idade.value_counts()\n",
    "\n",
    "idade.plot.hist(bins=(range(0, 120, 10)), title=\"Idade\")\n"
   ]
  },
  {
   "cell_type": "code",
   "execution_count": 838,
   "metadata": {
    "collapsed": false
   },
   "outputs": [
    {
     "data": {
      "text/plain": [
       "<matplotlib.axes._subplots.AxesSubplot at 0x21f3285c6a0>"
      ]
     },
     "execution_count": 838,
     "metadata": {},
     "output_type": "execute_result"
    },
    {
     "data": {
      "image/png": "[encoded data removed]",
      "text/plain": [
       "<matplotlib.figure.Figure at 0x21f32208978>"
      ]
     },
     "metadata": {},
     "output_type": "display_data"
    }
   ],
   "source": [
    "idade.plot.box(title=\"Idade\")"
   ]
  },
  {
   "cell_type": "code",
   "execution_count": 1,
   "metadata": {
    "collapsed": false
   },
   "outputs": [
    {
     "ename": "NameError",
     "evalue": "name 'idade' is not defined",
     "output_type": "error",
     "traceback": [
      "\u001b[0;31m---------------------------------------------------------------------------\u001b[0m",
      "\u001b[0;31mNameError\u001b[0m                                 Traceback (most recent call last)",
      "\u001b[0;32m<ipython-input-1-0e16bfc4d6b3>\u001b[0m in \u001b[0;36m<module>\u001b[0;34m()\u001b[0m\n\u001b[0;32m----> 1\u001b[0;31m \u001b[0midade\u001b[0m\u001b[0;34m.\u001b[0m\u001b[0mdescribe\u001b[0m\u001b[0;34m(\u001b[0m\u001b[0;34m)\u001b[0m\u001b[0;34m\u001b[0m\u001b[0m\n\u001b[0m",
      "\u001b[0;31mNameError\u001b[0m: name 'idade' is not defined"
     ]
    }
   ],
   "source": [
    "idade.describe()"
   ]
  },
  {
   "cell_type": "code",
   "execution_count": 839,
   "metadata": {
    "collapsed": false
   },
   "outputs": [
    {
     "data": {
      "text/plain": [
       "<matplotlib.axes._subplots.AxesSubplot at 0x21f328c5b38>"
      ]
     },
     "execution_count": 839,
     "metadata": {},
     "output_type": "execute_result"
    },
    {
     "data": {
      "image/png": "[encoded data removed]",
      "text/plain": [
       "<matplotlib.figure.Figure at 0x21f5fd57c88>"
      ]
     },
     "metadata": {},
     "output_type": "display_data"
    }
   ],
   "source": [
    "rendimentos = dados.V4742\n",
    "\n",
    "#def rendimento(dinheiros):\n",
    "#    if dinheiros < 1000:\n",
    "#        return \"0 - 1000\"\n",
    "#    elif dinheiros < 2000:\n",
    "#        return \"1000 - 2000\"\n",
    "#    elif dinheiros < 5000:\n",
    "#        return \"2000 - 5000\"\n",
    "#    else:\n",
    "#        return \"5000 - infinito\"\n",
    "#    \n",
    "#dados.V4742 = dados.V4742.map(rendimento)\n",
    "\n",
    "#bar5 = dados.V4742.value_counts(True) * 100\n",
    "\n",
    "#bar5.plot(kind=\"bar\", color=(\"r\", \"b\", \"orange\", 'g'), title=\"Rendimento mensal domiciliar per capita (R$)\",legend=False)\n",
    "\n",
    "rendimentos.plot.hist(bins=(range(0, 6000, 200)), title=\"Rendimento mensal domiciliar per capita (R$)\")"
   ]
  },
  {
   "cell_type": "code",
   "execution_count": 840,
   "metadata": {
    "collapsed": false
   },
   "outputs": [
    {
     "data": {
      "text/plain": [
       "<matplotlib.axes._subplots.AxesSubplot at 0x21f618bf470>"
      ]
     },
     "execution_count": 840,
     "metadata": {},
     "output_type": "execute_result"
    },
    {
     "data": {
      "image/png": "[encoded data removed]",
      "text/plain": [
       "<matplotlib.figure.Figure at 0x21f618f1080>"
      ]
     },
     "metadata": {},
     "output_type": "display_data"
    }
   ],
   "source": [
    "rendimentos[rendimentos != 999999999999].plot.box(title=\"Rendimento mensal domiciliar per capita (R$)\")"
   ]
  },
  {
   "cell_type": "code",
   "execution_count": 841,
   "metadata": {
    "collapsed": false
   },
   "outputs": [
    {
     "data": {
      "text/plain": [
       "<matplotlib.axes._subplots.AxesSubplot at 0x21f63cd4d68>"
      ]
     },
     "execution_count": 841,
     "metadata": {},
     "output_type": "execute_result"
    },
    {
     "data": {
      "image/png": "[encoded data removed]",
      "text/plain": [
       "<matplotlib.figure.Figure at 0x21f63ce03c8>"
      ]
     },
     "metadata": {},
     "output_type": "display_data"
    }
   ],
   "source": [
    "dados.boxplot(column=\"V8005\", by=\"UF\")"
   ]
  },
  {
   "cell_type": "code",
   "execution_count": null,
   "metadata": {
    "collapsed": true
   },
   "outputs": [],
   "source": []
  }
 ],
 "metadata": {
  "anaconda-cloud": {},
  "kernelspec": {
   "display_name": "Python 3",
   "language": "python",
   "name": "python3"
  },
  "language_info": {
   "codemirror_mode": {
    "name": "ipython",
    "version": 3
   },
   "file_extension": ".py",
   "mimetype": "text/x-python",
   "name": "python",
   "nbconvert_exporter": "python",
   "pygments_lexer": "ipython3",
   "version": "3.5.2"
  }
 },
 "nbformat": 4,
 "nbformat_minor": 0
}
